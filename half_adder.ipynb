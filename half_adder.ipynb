{
 "cells": [
  {
   "cell_type": "markdown",
   "metadata": {},
   "source": [
    "# Qiskit First Steps"
   ]
  },
  {
   "cell_type": "markdown",
   "metadata": {},
   "source": [
    "## Project 1: Half Adder\n",
    "\n",
    "**Hi there!**\n",
    "\n",
    "This is my first project in **Qiskit** and I have decided to go with a simple half adder that performs binary addition for two qubits. I will do the first run on a simulator on my laptop and then run it on a real quantum comupter made available by **IBM**.\n",
    "\n",
    "So,<br>\n",
    "**LET'S GET INTO IT!**"
   ]
  },
  {
   "cell_type": "markdown",
   "metadata": {},
   "source": [
    "First we import the necessary modules, that would be **qiskit** and **qiskit.visualization** in this case. We shall use the following from each of these module(s):\n",
    "- From Qiskit, we use Aer, QuantumCircuit and execute\n",
    "    - **Aer** is to intialize a backend for our quantum circuit\n",
    "    - **QuantumCircuit** is to intialize our circuit and add the necessary gates.\n",
    "    - **execute** to run our circuit and get the results\n",
    "- From qiskit.visualization, we have the plot_histogram\n",
    "    - **plot_histogram** is used to generate a plot for probabilites of all output states possible."
   ]
  },
  {
   "cell_type": "code",
   "execution_count": 1,
   "metadata": {},
   "outputs": [],
   "source": [
    "from qiskit import Aer, QuantumCircuit, execute\n",
    "from qiskit.visualization import plot_histogram"
   ]
  },
  {
   "cell_type": "markdown",
   "metadata": {},
   "source": [
    "### Case 1: Ideal Results\n",
    "Now we add a simulator for our circuit. I am using the **'qasm_simulator'** as it acts like a ideal quantum computer and I want ideal result for now."
   ]
  },
  {
   "cell_type": "code",
   "execution_count": 2,
   "metadata": {},
   "outputs": [],
   "source": [
    "qasm = Aer.get_backend('qasm_simulator')"
   ]
  },
  {
   "cell_type": "markdown",
   "metadata": {},
   "source": [
    "Here, we initialize **QuantumCircuit** object and add he necessary gates. Then I enclose it all inside a function just for the sake of obtaining all outputs for all combinations of inputs."
   ]
  },
  {
   "cell_type": "code",
   "execution_count": 3,
   "metadata": {},
   "outputs": [
    {
     "data": {
      "image/png": "[encoded data removed]",
      "text/plain": [
       "<Figure size 1124.35x650.16 with 1 Axes>"
      ]
     },
     "execution_count": 3,
     "metadata": {},
     "output_type": "execute_result"
    }
   ],
   "source": [
    "def half_adder(a=0, b=0):\n",
    "    '''\n",
    "    The function requires two inputs in binary digits \n",
    "    and returns a circuit that computes their addition\n",
    "    using half adder circuit implemented using quantum \n",
    "    multi qubit gates.\n",
    "    '''\n",
    "    circuit = QuantumCircuit(4, 2)\n",
    "    \n",
    "    if a == 1:\n",
    "        circuit.x(0)\n",
    "    if b == 1:\n",
    "        circuit.x(1)\n",
    "    if a == 0.5:\n",
    "        circuit.h(0)\n",
    "    if b == 0.5:\n",
    "        circuit.h(1)\n",
    "\n",
    "    circuit.barrier()\n",
    "    circuit.cx(0,2)\n",
    "    circuit.cx(1,2)\n",
    "    circuit.ccx(0,1,3)\n",
    "    circuit.barrier()\n",
    "\n",
    "    circuit.measure(2,0)\n",
    "    circuit.measure(3,1)\n",
    "    \n",
    "    return circuit\n",
    "\n",
    "_ = half_adder()\n",
    "_.draw('mpl', scale=2)"
   ]
  },
  {
   "cell_type": "code",
   "execution_count": 4,
   "metadata": {},
   "outputs": [
    {
     "name": "stdout",
     "output_type": "stream",
     "text": [
      "Enter A:0\n",
      "Enter B:0\n",
      "Input               : 0 + 0\n",
      "Result              : 00\n",
      "\n",
      "Enter A:0\n",
      "Enter B:1\n",
      "Input               : 0 + 1\n",
      "Result              : 01\n",
      "\n",
      "Enter A:1\n",
      "Enter B:0\n",
      "Input               : 1 + 0\n",
      "Result              : 01\n",
      "\n",
      "Enter A:1\n",
      "Enter B:1\n",
      "Input               : 1 + 1\n",
      "Result              : 10\n",
      "\n"
     ]
    },
    {
     "data": {
      "text/plain": [
       "[{'00': 1024}, {'01': 1024}, {'10': 1024}]"
      ]
     },
     "execution_count": 4,
     "metadata": {},
     "output_type": "execute_result"
    }
   ],
   "source": [
    "ideal_counts = []\n",
    "for i in range(4):\n",
    "    a = int(input('Enter A:'))\n",
    "    b = int(input('Enter B:'))\n",
    "    ha = half_adder(a, b)\n",
    "    result = list(execute(ha, qasm).result().get_counts().keys())\n",
    "    print('Input               : {} + {}'.format(a, b))\n",
    "    print('Result              : {}\\n'.format(result[0]))\n",
    "    ideal_counts.append(execute(ha, qasm).result().get_counts())\n",
    "\n",
    "ideal_counts.remove(ideal_counts[2])\n",
    "ideal_counts"
   ]
  },
  {
   "cell_type": "markdown",
   "metadata": {},
   "source": [
    "We see that for each run, all the shots specified by default landed on the output viz the right answer for that particular iteration with given vakues of A and B. This is what one can expect of a simulator as it is programmed to behave ideally. Well then let's put the each state in a superposition using the **Hadamard** gate."
   ]
  },
  {
   "cell_type": "code",
   "execution_count": 5,
   "metadata": {},
   "outputs": [
    {
     "data": {
      "text/plain": [
       "{'00': 261, '01': 503, '10': 260}"
      ]
     },
     "execution_count": 5,
     "metadata": {},
     "output_type": "execute_result"
    }
   ],
   "source": [
    "ideal_counts = {}\n",
    "ha = half_adder(0.5, 0.5)\n",
    "result = list(execute(ha, qasm).result().get_counts().keys())\n",
    "ideal_counts.update(execute(ha, qasm).result().get_counts())\n",
    "ideal_counts"
   ]
  },
  {
   "cell_type": "code",
   "execution_count": 6,
   "metadata": {},
   "outputs": [
    {
     "data": {
      "image/png": "[encoded data removed]",
      "text/plain": [
       "<Figure size 504x360 with 1 Axes>"
      ]
     },
     "execution_count": 6,
     "metadata": {},
     "output_type": "execute_result"
    }
   ],
   "source": [
    "plot_histogram(ideal_counts)"
   ]
  },
  {
   "cell_type": "markdown",
   "metadata": {},
   "source": [
    "### Case 2: Real Results\n",
    "Finally, we shall run this on a real quantum computer. For my code, I have chosen the IBMQ Backend **\"ibmq_valencia\"**. There are many other backends available, you can check using the command given below:"
   ]
  },
  {
   "cell_type": "code",
   "execution_count": 7,
   "metadata": {},
   "outputs": [
    {
     "name": "stderr",
     "output_type": "stream",
     "text": [
      "e:\\anaconda3\\envs\\qiskit\\lib\\site-packages\\qiskit\\providers\\ibmq\\ibmqfactory.py:192: UserWarning: Timestamps in IBMQ backend properties, jobs, and job results are all now in local time instead of UTC.\n",
      "  warnings.warn('Timestamps in IBMQ backend properties, jobs, and job results '\n"
     ]
    },
    {
     "data": {
      "text/plain": [
       "[<IBMQSimulator('ibmq_qasm_simulator') from IBMQ(hub='ibm-q', group='open', project='main')>,\n",
       " <IBMQBackend('ibmqx2') from IBMQ(hub='ibm-q', group='open', project='main')>,\n",
       " <IBMQBackend('ibmq_16_melbourne') from IBMQ(hub='ibm-q', group='open', project='main')>,\n",
       " <IBMQBackend('ibmq_vigo') from IBMQ(hub='ibm-q', group='open', project='main')>,\n",
       " <IBMQBackend('ibmq_ourense') from IBMQ(hub='ibm-q', group='open', project='main')>,\n",
       " <IBMQBackend('ibmq_valencia') from IBMQ(hub='ibm-q', group='open', project='main')>,\n",
       " <IBMQBackend('ibmq_london') from IBMQ(hub='ibm-q', group='open', project='main')>,\n",
       " <IBMQBackend('ibmq_burlington') from IBMQ(hub='ibm-q', group='open', project='main')>,\n",
       " <IBMQBackend('ibmq_essex') from IBMQ(hub='ibm-q', group='open', project='main')>,\n",
       " <IBMQBackend('ibmq_armonk') from IBMQ(hub='ibm-q', group='open', project='main')>,\n",
       " <IBMQBackend('ibmq_santiago') from IBMQ(hub='ibm-q', group='open', project='main')>]"
      ]
     },
     "execution_count": 7,
     "metadata": {},
     "output_type": "execute_result"
    }
   ],
   "source": [
    "from qiskit import IBMQ\n",
    "IBMQ.load_account() \n",
    "provider = IBMQ.get_provider(hub='ibm-q')\n",
    "provider.backends()"
   ]
  },
  {
   "cell_type": "code",
   "execution_count": 8,
   "metadata": {},
   "outputs": [],
   "source": [
    "ibmq = provider.get_backend(\"ibmqx2\")"
   ]
  },
  {
   "cell_type": "code",
   "execution_count": 9,
   "metadata": {},
   "outputs": [
    {
     "data": {
      "text/plain": [
       "{'00': 258, '01': 495, '10': 271}"
      ]
     },
     "execution_count": 9,
     "metadata": {},
     "output_type": "execute_result"
    }
   ],
   "source": [
    "real_counts = {}\n",
    "ha = half_adder(0.5, 0.5)\n",
    "result = list(execute(ha, ibmq).result().get_counts().keys())\n",
    "real_counts.update(execute(ha, qasm).result().get_counts())\n",
    "real_counts"
   ]
  },
  {
   "cell_type": "markdown",
   "metadata": {},
   "source": [
    "As you can see, the loop above takes some time to run in each iteration. This is because the code is sent to a IBMQ backend to run it on a real quantum computer. So, If you are lucky, you'll get your results in no time. But if you are not so lucky, it could take a few minutes or more if there are other people using it (i.e. your \"job\" is \"queued\"). \n",
    "So, be sure to check the backends before you use so that you can access the least busy one.\n",
    "\n",
    "Now, we can plot the histogram based on the results."
   ]
  },
  {
   "cell_type": "code",
   "execution_count": 10,
   "metadata": {},
   "outputs": [
    {
     "data": {
      "image/png": "[encoded data removed]",
      "text/plain": [
       "<Figure size 504x360 with 1 Axes>"
      ]
     },
     "execution_count": 10,
     "metadata": {},
     "output_type": "execute_result"
    }
   ],
   "source": [
    "plot_histogram(real_counts)"
   ]
  },
  {
   "cell_type": "markdown",
   "metadata": {},
   "source": [
    "### Conclusion \n",
    "\n",
    "Let us compare the results above:\n",
    "- In the ideal case, we have a ideal quantum computer (or atleast a simulator of one) that is **free of noise**. The plot shows that the output **01** is twice as likely to happen as compared to **00** and **11**. This is becuase input A = 0 and B = 1 and vice versa which yield the same state **|01>**.\n",
    "- In the real case, **our results align with the ideal case pretty well. This means that the backend works approxiamtely as an ideal quantum computer in the case of a half-adder circuit**. But we have to remember that in reality, **noise is introduced every time a gate acts on qubit(s)**. In some case the noise is more for certain gates and less for other gates.\n",
    "\n",
    "Thank you all for visiting my code, I hope it was helpful in some way. See you around as I shall be sharing more code with increasing complexity of the topics I deal with as I learn more. If you wish to contact me, here are my details:\n",
    "\n",
    "**Name :** Saurabh Singh Bajeli<br>\n",
    "**Email:** kaori.sarin@gmail.com"
   ]
  },
  {
   "cell_type": "markdown",
   "metadata": {},
   "source": [
    "NOTE: Wanna give a feedback, suggestions or corrections? feel free to reach me using the above mentioned contact details."
   ]
  }
 ],
 "metadata": {
  "kernelspec": {
   "display_name": "Python 3",
   "language": "python",
   "name": "python3"
  },
  "language_info": {
   "codemirror_mode": {
    "name": "ipython",
    "version": 3
   },
   "file_extension": ".py",
   "mimetype": "text/x-python",
   "name": "python",
   "nbconvert_exporter": "python",
   "pygments_lexer": "ipython3",
   "version": "3.7.7"
  }
 },
 "nbformat": 4,
 "nbformat_minor": 4
}
